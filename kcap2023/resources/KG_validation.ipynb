{
  "nbformat": 4,
  "nbformat_minor": 0,
  "metadata": {
    "colab": {
      "provenance": []
    },
    "kernelspec": {
      "name": "python3",
      "display_name": "Python 3"
    },
    "language_info": {
      "name": "python"
    }
  },
  "cells": [
    {
      "cell_type": "markdown",
      "source": [
        "### <font color='red'>Go to *File > Save a copy in Drive*</font>.\n",
        "\n",
        "**<h1>Declarative construction and validation of Knowledge Graphs</h1>**\n",
        "\n",
        "<img src=\"https://drive.google.com/uc?export=view&id=1fmIPBG5_eY-fJ_O2H2o1xC2QEwDKRh4l\" alt=\"drawing\" width=\"200\"/>\n",
        "<img src=\"https://drive.google.com/uc?export=view&id=1MCrbbICvyKYoUKZHsczHBjXMNElxdEsA\" alt=\"drawing\" width=\"200\"/>\n",
        "\n",
        "<img src=\"https://drive.google.com/uc?export=view&id=1dh5BvfK1f1nFg18MO6dtNQ2jE8i06HeD\" alt=\"drawing\" width=\"200\"/>\n",
        "<img src=\"https://drive.google.com/uc?export=view&id=1SZl-DnXWUA6eLVsle0yG0SIvYPllZqR9\" alt=\"drawing\" width=\"200\"/>\n",
        "\n",
        "> Ana Iglesias-Molina (ana.iglesiasm@upm.es) and Xuemin Duan (xuemin.duan@kuleuven.be)\n",
        "\n",
        "> Half-day tutorial at K-CAP23\n",
        "\n",
        "**<h2>KG Validation</h2>**\n",
        "\n",
        " Xuemin Duan (xuemin.duan@kuleuven.be)\n",
        "\n",
        "> This is the python notebook for KG Validation (using SHACL).\n",
        "\n",
        "> You will learn\n",
        "\n",
        ">> how to manually write SHACL shapes,\n",
        "\n",
        ">> how to automatically generate SHACL shapes from RML mapping rules,\n",
        "\n",
        ">> how to validate whether the created SHACL shapes are well-formed shapes,\n",
        "\n",
        ">> and how to validate RDF graphs using created SHACL shapes here.\n",
        "\n"
      ],
      "metadata": {
        "id": "Gte4DqIJdENc"
      }
    },
    {
      "cell_type": "markdown",
      "source": [
        "### Install packages"
      ],
      "metadata": {
        "id": "WiIv8al9c0xS"
      }
    },
    {
      "cell_type": "markdown",
      "source": [
        "**[RDFlib](https://github.com/RDFLib/rdflib)** for working with RDF graphs.\n",
        "\n",
        "**[pySHACL](https://github.com/RDFLib/pySHACL)** for validating SHACL shapes and RDF graphs."
      ],
      "metadata": {
        "id": "ZaLCozJIB8Xm"
      }
    },
    {
      "cell_type": "code",
      "source": [
        "!pip install rdflib pyshacl"
      ],
      "metadata": {
        "id": "wpUfTnu8dB7g"
      },
      "execution_count": null,
      "outputs": []
    },
    {
      "cell_type": "code",
      "source": [
        "from rdflib import Graph\n",
        "import pyshacl"
      ],
      "metadata": {
        "id": "Lg0Y7nOmHREn"
      },
      "execution_count": null,
      "outputs": []
    },
    {
      "cell_type": "markdown",
      "source": [
        "## SHACL-SHACL\n",
        "\n",
        "SHACL Shapes to Validate Shapes Graphs.\n",
        "\n",
        "To enforce many of the syntactic constraints related to SHACL Core in the specification.\n",
        "\n",
        "To validate whether created shapes graph is well-formed shapes graph"
      ],
      "metadata": {
        "id": "h6Tgdq1CLlWt"
      }
    },
    {
      "cell_type": "code",
      "source": [
        "shacl_shacl_graph=Graph().parse(\"https://www.w3.org/ns/shacl-shacl\")"
      ],
      "metadata": {
        "id": "vRPrSIVbMC50"
      },
      "execution_count": null,
      "outputs": []
    },
    {
      "cell_type": "code",
      "source": [
        "shapes = \"\"\"\n",
        "@prefix sh: <http://www.w3.org/ns/shacl#> .\n",
        "@prefix xsd: <http://www.w3.org/2001/XMLSchema#>.\n",
        "@prefix ex: <http://example.org/> .\n",
        "\n",
        "ex:PersonShape\n",
        "    a sh:NodeShape ;\n",
        "    sh:targetClass ex:Person ;\n",
        "    sh:property [\n",
        "        sh:path ex:name ;\n",
        "        sh:datatype xsd:string ;\n",
        "    ] .\n",
        "\"\"\"\n",
        "shapes_graph = Graph().parse(data=shapes, format=\"turtle\")\n",
        "\n",
        "# Validating SHACL graphs using pySHACL\n",
        "conforms, results_graph, results_text = pyshacl.validate(shapes_graph, shacl_graph=shacl_shacl_graph)\n",
        "\n",
        "# print validation report\n",
        "print(f\"Conforms: {conforms}\")\n",
        "print(results_text)"
      ],
      "metadata": {
        "id": "6z-8pq91MvxP"
      },
      "execution_count": null,
      "outputs": []
    },
    {
      "cell_type": "code",
      "source": [
        "shapes = \"\"\"\n",
        "@prefix sh: <http://www.w3.org/ns/shacl#> .\n",
        "@prefix xsd: <http://www.w3.org/2001/XMLSchema#>.\n",
        "@prefix ex: <http://example.org/> .\n",
        "\n",
        "ex:PersonShape\n",
        "    a sh:NodeShape ;\n",
        "    sh:targetClass ex:Person ;\n",
        "    sh:property [\n",
        "        #sh:path ex:name ;\n",
        "        sh:datatype xsd:string ;\n",
        "    ] .\n",
        "\"\"\" # property shape must has exactly one property path\n",
        "\n",
        "shapes_graph = Graph().parse(data=shapes, format=\"turtle\")\n",
        "\n",
        "# Validating SHACL graphs using pySHACL\n",
        "conforms, results_graph, results_text = pyshacl.validate(shapes_graph, shacl_graph=shacl_shacl_graph)\n",
        "\n",
        "# print validation report\n",
        "print(f\"Conforms: {conforms}\")\n",
        "print(results_text)"
      ],
      "metadata": {
        "id": "FzhPpUjJMtt9"
      },
      "execution_count": null,
      "outputs": []
    },
    {
      "cell_type": "markdown",
      "source": [
        "Explore your own shapes"
      ],
      "metadata": {
        "id": "HABOS8iQOTmM"
      }
    },
    {
      "cell_type": "code",
      "source": [
        "shapes = \"\"\"\n",
        "YOUR SHAPES HERE\n",
        "\"\"\"\n",
        "\n",
        "shapes_graph = Graph().parse(data=shapes, format=\"turtle\")\n",
        "conforms, results_graph, results_text = pyshacl.validate(shapes_graph, shacl_graph=shacl_shacl_graph)\n",
        "print(f\"Conforms: {conforms}\")\n",
        "print(results_text)"
      ],
      "metadata": {
        "id": "I4icVhDFOXIA"
      },
      "execution_count": null,
      "outputs": []
    },
    {
      "cell_type": "markdown",
      "source": [
        "## SHACL creation by hand\n",
        "\n",
        "Play with simple examples and tasks!"
      ],
      "metadata": {
        "id": "Ut6NoyVzcujL"
      }
    },
    {
      "cell_type": "code",
      "source": [
        "# Simple Example for validating whether a person's name is string and age is integer.\n",
        "\n",
        "data = \"\"\"\n",
        "@prefix ex: <http://example.org/> .\n",
        "\n",
        "ex:Alice\n",
        "    a ex:Person ;\n",
        "    ex:name \"Alice\" ;\n",
        "    ex:age \"20\" .\n",
        "\"\"\"\n",
        "\n",
        "shapes = \"\"\"\n",
        "@prefix sh: <http://www.w3.org/ns/shacl#> .\n",
        "@prefix xsd: <http://www.w3.org/2001/XMLSchema#>.\n",
        "@prefix ex: <http://example.org/> .\n",
        "\n",
        "ex:PersonShape\n",
        "    a sh:NodeShape ;\n",
        "    sh:targetClass ex:Person ;\n",
        "    sh:property [\n",
        "        sh:path ex:name ;\n",
        "        sh:datatype xsd:string ;\n",
        "    ] ;\n",
        "    sh:property [\n",
        "        sh:path ex:age ;\n",
        "        sh:datatype xsd:integer ;\n",
        "    ] .\n",
        "\"\"\"\n",
        "\n",
        "# Load as data graph, shapes graph\n",
        "data_graph = Graph().parse(data=data, format=\"turtle\")\n",
        "shapes_graph = Graph().parse(data=shapes, format=\"turtle\")\n",
        "\n",
        "# Validating RDF graphs using pySHACL\n",
        "conforms, results_graph, results_text = pyshacl.validate(data_graph,shacl_graph=shapes_graph)\n",
        "\n",
        "# print validation report\n",
        "print(f\"Conforms: {conforms}\")\n",
        "print(results_text)\n"
      ],
      "metadata": {
        "id": "hqec9-RZcxLw"
      },
      "execution_count": null,
      "outputs": []
    },
    {
      "cell_type": "markdown",
      "source": [
        "### Tasks\n",
        "Finish tasks by writing shapes to validate the following data graph.\n",
        "\n",
        "\n",
        "\n"
      ],
      "metadata": {
        "id": "tDFd91CGOkxK"
      }
    },
    {
      "cell_type": "code",
      "source": [
        "data = \"\"\"\n",
        "@prefix xsd: <http://www.w3.org/2001/XMLSchema#> .\n",
        "@prefix ex: <http://www.ex.org/> .\n",
        "\n",
        "<http://www.ex.org/Aircraft/151UW>\n",
        "      a ex:Aircraft ;\n",
        "      ex:hasAircraftId 9824;\n",
        "      ex:hasAircraftModelVersion <http://data.sfgov.org/AircraftModelVersion/200> ;\n",
        "      ex:hasCreationDate\n",
        "              \"2013-09-03T05:53:00.0\"^^xsd:dateTime;\n",
        "      ex:hasModificationDate\n",
        "              \"2013-09-03T05:53:00.0\"^^xsd:dateTime;\n",
        "      ex:hasTailNumber \"151UW\" ;\n",
        "      ex:isActive \"true\"^^xsd:boolean;\n",
        "      ex:owningAirline <http://data.sfgov.org/Company/US+Airways> ;\n",
        "      ex:has_Aircraft_Model <http://data.sfgov.org/AircraftModel/A321> .\n",
        "\n",
        "<http://data.sfgov.org/AircraftModelVersion/200>\n",
        "  a ex:AircraftModelVersion;\n",
        "  ex:hasModelVersion \"200\"^^xsd:string .\n",
        "\n",
        "\"\"\"\n",
        "# Load as data graph\n",
        "data_graph = Graph().parse(data=data, format=\"turtle\")"
      ],
      "metadata": {
        "id": "agixqrRwQudl"
      },
      "execution_count": null,
      "outputs": []
    },
    {
      "cell_type": "markdown",
      "source": [
        "Task 1:\n",
        "\n",
        "Fill the $<$FILL HERE$>$ to restrict the instances of ex:Aircraft to be IRI."
      ],
      "metadata": {
        "id": "sYOxIkNKQasm"
      }
    },
    {
      "cell_type": "code",
      "source": [
        "shapes_graph_s = \"\"\"\n",
        "@prefix sh: <http://www.w3.org/ns/shacl#> .\n",
        "@prefix xsd: <http://www.w3.org/2001/XMLSchema#>.\n",
        "@prefix ex: <http://www.ex.org/> .\n",
        "\n",
        "ex:PersonShape\n",
        "    a sh:NodeShape ;\n",
        "    sh:targetClass ex:Aircraft ;\n",
        "    <FILL HERE> .\n",
        "\"\"\"\n",
        "shapes_graph = Graph().parse(data=shapes_graph_s, format=\"turtle\")\n",
        "\n",
        "# Validating RDF graphs using pySHACL\n",
        "conforms, results_graph, results_text = pyshacl.validate(data_graph,shacl_graph=shapes_graph)\n",
        "print(f\"Conforms: {conforms}\")\n",
        "print(results_text)"
      ],
      "metadata": {
        "id": "TBm69dfmOrDV"
      },
      "execution_count": null,
      "outputs": []
    },
    {
      "cell_type": "markdown",
      "source": [
        "Task 2:\n",
        "\n",
        "Fill the $<$FILL HERE$>$ to restrict the property value of ontology:hasAircraftId of instances of ex:Aircraft to be integer."
      ],
      "metadata": {
        "id": "Ry7PtXsXT3Ni"
      }
    },
    {
      "cell_type": "code",
      "source": [
        "shapes_graph_s = \"\"\"<FILL HERE>\n",
        "\"\"\"\n",
        "shapes_graph = Graph().parse(data=shapes_graph_s, format=\"turtle\")\n",
        "\n",
        "# Validating RDF graphs using pySHACL\n",
        "conforms, results_graph, results_text = pyshacl.validate(data_graph,shacl_graph=shapes_graph)\n",
        "print(f\"Conforms: {conforms}\")\n",
        "print(results_text)"
      ],
      "metadata": {
        "id": "XiDSy36UT6-C"
      },
      "execution_count": null,
      "outputs": []
    },
    {
      "cell_type": "markdown",
      "source": [
        "Task 3:\n",
        "\n",
        "Fill the $<$FILL HERE$>$ to restrict the property value of ex:hasAircraftModelVersion associated with the ex:Aircraft instances to be IRI,\n",
        "\n",
        "and require this property value to have one ex:AircraftModelVersion class and must has exactly one ex:hasModelVersion property."
      ],
      "metadata": {
        "id": "v9qwZrbXULHW"
      }
    },
    {
      "cell_type": "code",
      "source": [
        "shapes_graph_s = \"\"\"<FILL HERE>\n",
        "\"\"\"\n",
        "shapes_graph = Graph().parse(data=shapes_graph_s, format=\"turtle\")\n",
        "\n",
        "# Validating RDF graphs using pySHACL\n",
        "conforms, results_graph, results_text = pyshacl.validate(data_graph,shacl_graph=shapes_graph)\n",
        "print(f\"Conforms: {conforms}\")\n",
        "print(results_text)"
      ],
      "metadata": {
        "id": "Ep9bAkO0UKA5"
      },
      "execution_count": null,
      "outputs": []
    },
    {
      "cell_type": "markdown",
      "source": [
        "## RML2SHACL"
      ],
      "metadata": {
        "id": "AszjJ0iVcxki"
      }
    },
    {
      "cell_type": "markdown",
      "source": [
        "### Install tools and download dataset"
      ],
      "metadata": {
        "id": "IxWzwQGtDj2O"
      }
    },
    {
      "cell_type": "markdown",
      "source": [
        "**[RML2SHACL](https://github.com/RMLio/RML2SHACL)** for translating RML mapping rules to SHACL shapes."
      ],
      "metadata": {
        "id": "q3dlfxzXDn6r"
      }
    },
    {
      "cell_type": "code",
      "source": [
        "!git clone https://github.com/RMLio/RML2SHACL.git"
      ],
      "metadata": {
        "id": "7qllwTyLcymr"
      },
      "execution_count": null,
      "outputs": []
    },
    {
      "cell_type": "code",
      "source": [
        "import os\n",
        "os.chdir(\"RML2SHACL\")"
      ],
      "metadata": {
        "id": "aaD7zw57WgV7"
      },
      "execution_count": null,
      "outputs": []
    },
    {
      "cell_type": "markdown",
      "source": [
        "Download the RDF graph and RML mappings from last KG construction session"
      ],
      "metadata": {
        "id": "MwkJpMO7EC_R"
      }
    },
    {
      "cell_type": "code",
      "source": [
        "import gdown\n",
        "url = 'https://drive.google.com/uc?id=11NP5wZK5U1ZI2EsICTptXHSQFWI3FxH7'\n",
        "output = 'KG_validation_data.zip'\n",
        "gdown.download(url, output, quiet=False)"
      ],
      "metadata": {
        "id": "wHivrWwxazzc"
      },
      "execution_count": null,
      "outputs": []
    },
    {
      "cell_type": "code",
      "source": [
        "!unzip KG_validation_data.zip"
      ],
      "metadata": {
        "id": "eMim-quhEFlO"
      },
      "execution_count": null,
      "outputs": []
    },
    {
      "cell_type": "code",
      "source": [
        "data_graph = Graph().parse(\"KG_validation_data/result.nt\", format=\"nt\")"
      ],
      "metadata": {
        "id": "yR-0_GxwcNYH"
      },
      "execution_count": null,
      "outputs": []
    },
    {
      "cell_type": "markdown",
      "source": [
        "### Try RML2SHACL"
      ],
      "metadata": {
        "id": "Pg7pExU5EI96"
      }
    },
    {
      "cell_type": "markdown",
      "source": [
        "Generate SHACL shapes from RMl mapping rules using RML2SHACL"
      ],
      "metadata": {
        "id": "5XkiyaHsh3i6"
      }
    },
    {
      "cell_type": "code",
      "source": [
        "!python main.py KG_validation_data/aircraft_mappings.ttl"
      ],
      "metadata": {
        "id": "nTsUdKDzixLP"
      },
      "execution_count": null,
      "outputs": []
    },
    {
      "cell_type": "markdown",
      "source": [
        "### Validate RDF graph using RML-driven shapes"
      ],
      "metadata": {
        "id": "hsILH6MxWjGG"
      }
    },
    {
      "cell_type": "code",
      "source": [
        "shapes_graph = Graph().parse(\"shapes/KG_validation_data/aircraft_mappings.ttl-output-shape.ttl\", format=\"turtle\")\n",
        "\n",
        "# Validating RDF graphs using pySHACL\n",
        "conforms, results_graph, results_text = pyshacl.validate(data_graph,shacl_graph=shapes_graph)\n",
        "print(f\"Conforms: {conforms}\")\n",
        "print(results_text)"
      ],
      "metadata": {
        "id": "p7Ick_0tWntW"
      },
      "execution_count": null,
      "outputs": []
    },
    {
      "cell_type": "code",
      "source": [],
      "metadata": {
        "id": "VhpDBdv-idL0"
      },
      "execution_count": null,
      "outputs": []
    }
  ]
}