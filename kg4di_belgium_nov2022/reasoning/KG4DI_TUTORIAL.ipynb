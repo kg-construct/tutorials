{
  "cells": [
    {
      "cell_type": "markdown",
      "source": [
        "#Preambule\n",
        "Before starting with tutorial, you want to execute the KG generation steps of morph kgc. This is necessary as this part of the tutorial builds up the data we have generated.\n",
        "\n"
      ],
      "metadata": {
        "id": "aQ9ulWS1WvN4"
      },
      "id": "aQ9ulWS1WvN4"
    },
    {
      "cell_type": "code",
      "source": [
        "!pip install morph-kgc"
      ],
      "metadata": {
        "id": "SSmsiiHBUreB"
      },
      "id": "SSmsiiHBUreB",
      "execution_count": null,
      "outputs": []
    },
    {
      "cell_type": "code",
      "execution_count": null,
      "id": "0d02d265",
      "metadata": {
        "id": "0d02d265"
      },
      "outputs": [],
      "source": [
        "import morph_kgc\n",
        "config = \"\"\"\n",
        "             [GTFS-Madrid-Bench]\n",
        "             mappings: https://raw.githubusercontent.com/oeg-upm/morph-kgc/main/examples/tutorial/mapping.gtfs.ttl\n",
        "         \"\"\"\n",
        "morph_kgc.materialize(config).serialize(\"knowledge-graph.ttl\", format=\"turtle\")"
      ]
    },
    {
      "cell_type": "markdown",
      "id": "92f01f11",
      "metadata": {
        "id": "92f01f11"
      },
      "source": [
        "# Inferring implicit knowledge from the KG\n",
        "So far, we have focussed on integrating non-RDF into an RDF knowledge graph using RML. In this part of the tutorial, we will demonstrate the use of ontologies for reasoning tasks. We will cover two reasoning tasks in this part of the tutorial: inferring implicit information from the graph and assessing whether there is a contradiction in the knowledge graph.\n",
        "\n",
        "## Inferring implicit information\n",
        "We start with inferring implicit information from explicit information. The knowledge graph we have constructed in this tutorial uses the [gtfs](http://vocab.gtfs.org/terms#) vocabulary. This vocabulary contains very few axioms, enough to demonstrate our first reasoning task. In this ontology, `gtfs:Agency` is declared as a subclass of `foaf:Agent`, meaning that every instance of `gtfs:Agency` is also an instance of `foaf:Agent`.\n",
        "\n",
        "We will first load the graph we have generated in a previous step in a new object stored in the variable `data`."
      ]
    },
    {
      "cell_type": "code",
      "source": [
        "import rdflib"
      ],
      "metadata": {
        "id": "LR4hGv2qWnTz"
      },
      "id": "LR4hGv2qWnTz",
      "execution_count": null,
      "outputs": []
    },
    {
      "cell_type": "code",
      "execution_count": null,
      "id": "a8d0aefd",
      "metadata": {
        "id": "a8d0aefd"
      },
      "outputs": [],
      "source": [
        "# Creating a new graph for the data we have previously generated\n",
        "data = rdflib.Graph()\n",
        "data.parse('knowledge-graph.ttl')\n",
        "\n",
        "print(f\"There are {len(data)} triples in the graph.\")"
      ]
    },
    {
      "cell_type": "markdown",
      "id": "f9cc60a2",
      "metadata": {
        "id": "f9cc60a2"
      },
      "source": [
        "We will first count the number of instances for each type using a simple query. You will notice that, in our graph, there is only one instance of `gtfs:Agency` but no instances of `foaf:Agent`. This SPARQL query will only retrieve information based on the graph that is available to it. (*)"
      ]
    },
    {
      "cell_type": "code",
      "execution_count": null,
      "id": "fff04610",
      "metadata": {
        "id": "fff04610"
      },
      "outputs": [],
      "source": [
        "qtypes = \"\"\"\n",
        "         SELECT ?type (COUNT(*) AS ?count1) WHERE {\n",
        "            [] a ?type .\n",
        "         } GROUP BY ?type ORDER BY ?count1\n",
        "      \"\"\"\n",
        "\n",
        "from io import BytesIO\n",
        "import pandas as pd\n",
        "df1 = pd.read_csv(BytesIO(data.query(qtypes).serialize(format='csv')), index_col=0)\n",
        "df1"
      ]
    },
    {
      "cell_type": "code",
      "execution_count": null,
      "id": "b2548171",
      "metadata": {
        "id": "b2548171"
      },
      "outputs": [],
      "source": [
        "turtle_output = data.query(\"\"\"\n",
        "    CONSTRUCT { ?s ?p ?o } WHERE {\n",
        "        ?s a <http://vocab.gtfs.org/terms#Agency> .\n",
        "        ?s ?p ?o .\n",
        "    }\n",
        "\"\"\").serialize(format='turtle').decode(\"utf-8\")\n",
        "\n",
        "print(turtle_output)"
      ]
    },
    {
      "cell_type": "markdown",
      "id": "81ec45a1",
      "metadata": {
        "id": "81ec45a1"
      },
      "source": [
        "If we were to consult the `gtfs` ontology, we would use the aforementioned axiom stating that `gtfs:Agency` is a subclass of `foaf:Agent`, among other axioms.\n",
        "\n",
        "```turtle\n",
        "gtfs:Agency a rdfs:Class ;\n",
        "            status:term_status \"stable\"@en ;\n",
        "            status:term_status \"estable\"@es ;\n",
        "            rdfs:subClassOf foaf:Agent ;\n",
        "            rdfs:label \"Agency\"@en ;\n",
        "\t\t\t\trdfs:label \"Empresa\"@es ;\n",
        "            rdfs:seeAlso <https://developers.google.com/transit/gtfs/reference#agency_fields> ;\n",
        "            rdfs:comment \"An agency operates a certain schedule based transport mode\"@en ;\n",
        "\t\t\t\trdfs:comment \"Una empresa opera un cierto modo de transporte de manera programada\"@es .\n",
        "```\n",
        "                \n",
        "We will now create a new graph and add the triples of the `gtfs` ontology and our generated graph. We need to do this so that a reasoner can access both the data and the axioms."
      ]
    },
    {
      "cell_type": "code",
      "execution_count": null,
      "id": "a2eca20e",
      "metadata": {
        "id": "a2eca20e"
      },
      "outputs": [],
      "source": [
        "data_bis = rdflib.Graph()\n",
        "\n",
        "data_bis.parse('http://vocab.gtfs.org/terms')\n",
        "print(f\"There are {len(data_bis)} triples in the gtfs ontology.\")\n",
        "\n",
        "data_bis.parse('knowledge-graph.ttl', format='turtle')\n",
        "print(f\"After adding the data, there are now {len(data_bis)} triples in the graph.\")"
      ]
    },
    {
      "cell_type": "markdown",
      "id": "5c2cf0f2",
      "metadata": {
        "id": "5c2cf0f2"
      },
      "source": [
        "We then use RDFLib's [OWL-RL](https://owl-rl.readthedocs.io/en/latest/) implementation to reason over these axioms. The reasoner will add the inferred triples to the graph with side effects. \n",
        "\n",
        "While the various OWL2 profiles (different ontology language \"flavors\" with varying levels of expressivity and computational complexity) are beyond the scope of this tutorial, it suffices to know that OWL2 RL (which stands for Rule Language) is a decidable subset of First-Order Logic that can be implemented with rule-languages."
      ]
    },
    {
      "cell_type": "code",
      "source": [
        "!pip3 install owlrl"
      ],
      "metadata": {
        "id": "uQZLA2ptXXLR"
      },
      "id": "uQZLA2ptXXLR",
      "execution_count": null,
      "outputs": []
    },
    {
      "cell_type": "code",
      "execution_count": null,
      "id": "bf9d8159",
      "metadata": {
        "id": "bf9d8159"
      },
      "outputs": [],
      "source": [
        "import owlrl\n",
        "owlrl.DeductiveClosure(owlrl.OWLRL_Semantics).expand(data_bis)\n",
        "print(f\"After reasoning, there are now {len(data_bis)} triples in the graph.\")"
      ]
    },
    {
      "cell_type": "markdown",
      "id": "bb1920b1",
      "metadata": {
        "id": "bb1920b1"
      },
      "source": [
        "An OWL-RL reasoner already allows one to infer additional triples based on the data, but these are limited to the \"obvious\" facts, such as there being two boolean values. We are primarily interested in the facts we can infer via the ontology. Now let's rerun the query and see whether additional triples have been inferred. "
      ]
    },
    {
      "cell_type": "code",
      "execution_count": null,
      "id": "d98d44ae",
      "metadata": {
        "id": "d98d44ae"
      },
      "outputs": [],
      "source": [
        "turtle_output = data_bis.query(\"\"\"\n",
        "    CONSTRUCT { ?s ?p ?o } WHERE {\n",
        "        ?s a <http://vocab.gtfs.org/terms#Agency> .\n",
        "        ?s ?p ?o .\n",
        "    }\n",
        "\"\"\").serialize(format='turtle').decode(\"utf-8\")\n",
        "\n",
        "print(turtle_output)"
      ]
    },
    {
      "cell_type": "markdown",
      "id": "c29bb6df",
      "metadata": {
        "id": "c29bb6df"
      },
      "source": [
        "Indeed, we now see that the resource `<http://transport.linkeddata.es/madrid/agency/00000000000000000001>` is both a `gtfs:Agency` and `foaf:Person`."
      ]
    },
    {
      "cell_type": "markdown",
      "id": "31e6269e",
      "metadata": {
        "id": "31e6269e"
      },
      "source": [
        "You can launch a second query on this \"augmented\" graph, create a new data frame, and join this data frame with the first to observe that much more information has been inferred. While our examples are limited to subclass inferences, OWL-RL supports many more axioms. You can execute the following statements at your leisure."
      ]
    },
    {
      "cell_type": "code",
      "execution_count": null,
      "id": "73cd88b8",
      "metadata": {
        "id": "73cd88b8"
      },
      "outputs": [],
      "source": [
        "# qtypes = \"\"\"\n",
        "#          SELECT ?type (COUNT(*) AS ?count2) WHERE {\n",
        "#             [] a ?type .\n",
        "#          } GROUP BY ?type ORDER BY ?count2\n",
        "#       \"\"\"\n",
        "\n",
        "# df2 = pd.read_csv(BytesIO(data_bis.query(qtypes).serialize(format='csv')), index_col=0)\n",
        "# pd.merge(df1, df2, on='type', how='outer')"
      ]
    },
    {
      "cell_type": "markdown",
      "id": "d643368c",
      "metadata": {
        "id": "d643368c"
      },
      "source": [
        "## Looking for contradictions\n",
        "The OWL2 ontology languages have been designed to support several reasoning tasks. One of these reasoning tasks is to assess whether an ontology is satisfiable (e.g., it does not contain contradictions or, in other words, \"it can happen\"). Other reasoning tasks include subsumption checking (Is a class A a subclass of class B?) or class satisfiability checking (Can a class have instances?).\n",
        "\n",
        "One may reasonably assume that these checks have been conducted on an ontology without instances to avoid any \"obvious\" contradictions. These reasoning tasks, which may be computationally expensive, may provide you with quality assurance as they can allow you to check whether the data you have provided leads to contradictions. This is something we will exemplify now."
      ]
    },
    {
      "cell_type": "code",
      "execution_count": null,
      "id": "43ee9c4c",
      "metadata": {
        "id": "43ee9c4c"
      },
      "outputs": [],
      "source": [
        "import owlrl\n",
        "from owlrl.Namespaces import ERRNS, T\n",
        "\n",
        "for error in data_bis.objects(predicate=ERRNS.error):\n",
        "    print(error)"
      ]
    },
    {
      "cell_type": "markdown",
      "id": "e94f00eb",
      "metadata": {
        "id": "e94f00eb"
      },
      "source": [
        "There are no errors, as our data contained none. The `gtfs` ontology is not highly axiomatized either. For this tutorial, we will now demonstrate satisfiability checking in two steps. We will first introduce an axiom stating that no resource can be both a `foaf:Agent` and a `gtfs:feed`, which makes sense. Then we will add a resource that does not comply with that axiom."
      ]
    },
    {
      "cell_type": "code",
      "execution_count": null,
      "id": "4817133e",
      "metadata": {
        "scrolled": false,
        "id": "4817133e"
      },
      "outputs": [],
      "source": [
        "# Adding the axiom\n",
        "data_bis.parse(data=\"\"\"\n",
        "    @prefix foaf: <http://xmlns.com/foaf/0.1/> .\n",
        "    @prefix gtfs: <http://vocab.gtfs.org/terms#> .\n",
        "    @prefix owl: <http://www.w3.org/2002/07/owl#> .\n",
        "    \n",
        "    foaf:Agent owl:disjointWith gtfs:Feed .\n",
        "    \n",
        "    <http://www.example.com/foo> a foaf:Agent .\n",
        "    <http://www.example.com/foo> a gtfs:Feed .\n",
        "\"\"\")\n",
        "\n",
        "# re-launching the reasonser\n",
        "owlrl.DeductiveClosure(owlrl.OWLRL_Semantics).expand(data_bis)\n",
        "\n",
        "# check for problems\n",
        "for error in data_bis.objects(predicate=ERRNS.error):\n",
        "    print(error)\n",
        "    \n",
        "# DISCLAIMER: if you see any complaints w.r.t. to the data, this is because \n",
        "# there are inconsistencies introduced with the synthetic data provided for this tutorial"
      ]
    },
    {
      "cell_type": "markdown",
      "id": "87c9780d",
      "metadata": {
        "id": "87c9780d"
      },
      "source": [
        "(*) While there are extensions of SPARQL supporting so-called [Entailment Regimes](https://www.w3.org/TR/sparql11-entailment/), these are out of this tutorial's scope."
      ]
    }
  ],
  "metadata": {
    "kernelspec": {
      "display_name": "Python 3",
      "language": "python",
      "name": "python3"
    },
    "language_info": {
      "codemirror_mode": {
        "name": "ipython",
        "version": 3
      },
      "file_extension": ".py",
      "mimetype": "text/x-python",
      "name": "python",
      "nbconvert_exporter": "python",
      "pygments_lexer": "ipython3",
      "version": "3.8.8"
    },
    "colab": {
      "provenance": []
    }
  },
  "nbformat": 4,
  "nbformat_minor": 5
}