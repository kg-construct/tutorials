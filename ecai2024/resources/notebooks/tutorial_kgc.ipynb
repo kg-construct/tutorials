{
  "cells": [
    {
      "cell_type": "markdown",
      "metadata": {
        "id": "E1E6gXf8a6hN"
      },
      "source": [
        "# **[Yatter](https://github.com/oeg-upm/yatter) Tutorial**\n",
        "\n",
        "This tool translates mapping rules from YARRRML in a turtle-based serialization of RML or R2RML."
      ]
    },
    {
      "cell_type": "markdown",
      "source": [
        "First of all, we need to install the library via pip."
      ],
      "metadata": {
        "id": "dQtIj_ubeuyL"
      }
    },
    {
      "cell_type": "code",
      "execution_count": null,
      "metadata": {
        "id": "DGySfIr_a6Ag"
      },
      "outputs": [],
      "source": [
        "!pip install yatter==1.1.5"
      ]
    },
    {
      "cell_type": "markdown",
      "source": [
        "And make the necessary imports (yatter, ruamel for YAML and urllib for the requests)"
      ],
      "metadata": {
        "id": "uHDd5q3Yexsw"
      }
    },
    {
      "cell_type": "code",
      "execution_count": null,
      "metadata": {
        "id": "K8I0jGq-bP0P"
      },
      "outputs": [],
      "source": [
        "import yatter, time\n",
        "from ruamel.yaml import YAML\n",
        "from urllib import request"
      ]
    },
    {
      "cell_type": "markdown",
      "source": [
        "We just need to call the function `translate` from the `yatter` package, with a yaml object as a parameter, it returns the mapping translated into RML as an string"
      ],
      "metadata": {
        "id": "vt1uEhlLe7AI"
      }
    },
    {
      "cell_type": "code",
      "execution_count": null,
      "metadata": {
        "id": "ZKsoeeiGbVc4"
      },
      "outputs": [],
      "source": [
        "yaml = YAML(typ='safe', pure=True)\n",
        "yarrrml_mapping = request.urlopen(\"https://raw.githubusercontent.com/kg-construct/tutorials/refs/heads/main/ecai2024/resources/yarrrml_mapping.yml\").read().decode('utf-8')\n",
        "\n",
        "print(f'\\n\\n------Input Mapping in YARRRML----------\\n\\n{yarrrml_mapping}')\n",
        "time.sleep(1)\n",
        "rml_content = yatter.translate(yaml.load(yarrrml_mapping))\n",
        "print(f'\\n\\n------Translated Mapping in RML----------\\n\\n{rml_content}')"
      ]
    },
    {
      "cell_type": "markdown",
      "metadata": {
        "id": "jQIDSTs1PKhg"
      },
      "source": [
        "# **[Morph-KGC](https://github.com/oeg-upm/morph-kgc) Tutorial**\n",
        "\n",
        "**[Morph-KGC](https://github.com/oeg-upm/morph-kgc)** is an engine that constructs **[RDF](https://www.w3.org/TR/rdf11-concepts/)** and **[RDF-star](https://w3c.github.io/rdf-star/cg-spec/2021-12-17.html)** knowledge graphs from heterogeneous data sources with the **[R2RML](https://www.w3.org/TR/r2rml/)** and **[RML](https://w3id.org/rml/core/spec)** mapping languages. The full documentation of Morph-KGC is available in **[Read the Docs](https://morph-kgc.readthedocs.io/en/latest/)**.\n",
        "\n",
        "There are two different options to run Morph-KGC:\n",
        "\n",
        "- As a **library**, integrating with **[RDFLib](https://rdflib.readthedocs.io)** and **[Oxigraph](https://oxigraph.org/pyoxigraph)**.\n",
        "- Via the **command line**.\n",
        "\n",
        "\n",
        "This tutorial shows the different alternatives to run Morph-KGC. Here, we use [RML](https://w3id.org/rml/core/spec) mappings, but the more user-friendly [YARRRML](https://rml.io/yarrrml/spec/) mapping format is also supported. Data transformation, computation, or filtering before generating triples is also supported with [RML-FNML](https://w3id.org/rml/fnml/spec)."
      ]
    },
    {
      "cell_type": "markdown",
      "metadata": {
        "id": "bXYRQ_W2PdjU"
      },
      "source": [
        "## **Load Knowledge Graph to [RDFLib](https://rdflib.readthedocs.io)**\n",
        "\n",
        "**[RDFLib](https://rdflib.readthedocs.io)** is the reference library to work with RDF in Python. Morph-KGC can be used as a **library** to create a knowledge graph and load it to RDFLib. In this example we will use the Aircrafts Example with **CSV** data. Morph-KGC allows to access mappings and data **remotely**, so we will use this functionality to avoid downloading the data and the mappings ourselves. The RML mappings are available [here](https://github.com/kg-construct/tutorials/blob/main/ecai2024/resources/rml_mapping.rml.ttl) and the data is available [here](https://github.com/kg-construct/tutorials/tree/main/ecai2024/resources/data)."
      ]
    },
    {
      "cell_type": "markdown",
      "metadata": {
        "id": "HlzLovomSjH9"
      },
      "source": [
        "First of all, we need to **install** [Morph-KGC](https://pypi.org/project/morph-kgc) (this will also install [RDFLib](https://pypi.org/project/rdflib/) and [Oxigraph](https://pypi.org/project/pyoxigraph/))."
      ]
    },
    {
      "cell_type": "code",
      "execution_count": null,
      "metadata": {
        "id": "xM4SFlPkPmDZ"
      },
      "outputs": [],
      "source": [
        "!pip install morph-kgc==2.8.0"
      ]
    },
    {
      "cell_type": "markdown",
      "metadata": {
        "id": "eEaaoTnkTJBu"
      },
      "source": [
        "Now we just need to **import** Morph-KGC and we are ready to go!"
      ]
    },
    {
      "cell_type": "code",
      "execution_count": null,
      "metadata": {
        "id": "u4UZHlZUOxBL"
      },
      "outputs": [],
      "source": [
        "import morph_kgc"
      ]
    },
    {
      "cell_type": "markdown",
      "metadata": {
        "id": "90laT8Tvz4Gj"
      },
      "source": [
        "To run Morph-KGC it is necessary to provide some information. This is done via a config **INI** file. When running Morph-KGC as a **library**, this configuration can be provided as a **string** or as a **file path**. Below there is a basic config file for our example provided as a string. The _config_ indicates the path to a mapping file."
      ]
    },
    {
      "cell_type": "code",
      "execution_count": null,
      "metadata": {
        "id": "fL5hqV6IWa0b"
      },
      "outputs": [],
      "source": [
        "config = \"\"\"\n",
        "             [KGC-Tutorial]\n",
        "             mappings: https://raw.githubusercontent.com/kg-construct/tutorials/refs/heads/main/ecai2024/resources/rml_mapping.rml.ttl\n",
        "         \"\"\""
      ]
    },
    {
      "cell_type": "markdown",
      "metadata": {
        "id": "loiJCxBF01cp"
      },
      "source": [
        "We just need to call `materialize` passing our _config_ and Morph-KGC will create the knowledge graph and load it to RDFLib."
      ]
    },
    {
      "cell_type": "code",
      "execution_count": null,
      "metadata": {
        "id": "RSFNbylgTVKy"
      },
      "outputs": [],
      "source": [
        "g = morph_kgc.materialize(config)"
      ]
    },
    {
      "cell_type": "markdown",
      "metadata": {
        "id": "Q7SDl-w3eZ9T"
      },
      "source": [
        "**That is it!** Now we can work with our RDFLib graph: query, navigate or save the graph and more. For instance, below we query the KG"
      ]
    },
    {
      "cell_type": "code",
      "execution_count": null,
      "metadata": {
        "id": "1T-cECqEcBbS"
      },
      "outputs": [],
      "source": [
        "sparql_query = \"\"\"\n",
        "         PREFIX geo: <http://www.w3.org/2003/01/geo/wgs84_pos#>\n",
        "         PREFIX dct: <http://purl.org/dc/terms/>\n",
        "         PREFIX ex: <http://www.ex.org/>\n",
        "\n",
        "         SELECT * WHERE {\n",
        "             ?aircraft a ex:Aircraft .\n",
        "             ?aircraft ex:hasID ?id .\n",
        "             ?aircraft ex:hasAircraftModel ?model\n",
        "         }\n",
        "      \"\"\"\n",
        "\n",
        "answers = g.query(sparql_query)\n",
        "\n",
        "for row in answers:\n",
        "    print(f' Aircraft {row[\"aircraft\"]} has id {row[\"id\"]} and model {row[\"model\"]}')"
      ]
    },
    {
      "cell_type": "markdown",
      "metadata": {
        "id": "vZJpXRcFuDkG"
      },
      "source": [
        "## **Create Knowledge Graph via Command Line**"
      ]
    },
    {
      "cell_type": "markdown",
      "metadata": {
        "id": "Gpw6nbNC4msF"
      },
      "source": [
        "Morph-KGC can also be executed from the **command line**. This is the most recommended option if you work with **large volumes of data**. As before, we need to create a config file. In this example we use again the data from the GTFS-Madrid-Bench."
      ]
    },
    {
      "cell_type": "code",
      "execution_count": null,
      "metadata": {
        "id": "SxksqKc3uKAN"
      },
      "outputs": [],
      "source": [
        "# create the config file\n",
        "!echo \"[CONFIGURATION]\" > config.ini\n",
        "!echo \"logging_level: DEBUG\" >> config.ini\n",
        "!echo \"[AIRCRAFTSKG]\" >> config.ini\n",
        "!echo \"mappings: https://raw.githubusercontent.com/kg-construct/tutorials/refs/heads/main/ecai2024/resources/rml_mapping.rml.ttl\" >> config.ini\n",
        "\n",
        "# show the config file\n",
        "!cat config.ini"
      ]
    },
    {
      "cell_type": "markdown",
      "metadata": {
        "id": "B7RoKRRF45dQ"
      },
      "source": [
        "The following command will create the knowledge graph and write it to a _knowledge-graph.nt_ file. You just need to provide the path to the _config_ file."
      ]
    },
    {
      "cell_type": "code",
      "execution_count": null,
      "metadata": {
        "id": "NGfkMb-VucxJ"
      },
      "outputs": [],
      "source": [
        "!python3 -m morph_kgc config.ini"
      ]
    },
    {
      "cell_type": "markdown",
      "metadata": {
        "id": "7UHqM8W98VLp"
      },
      "source": [
        "Let's take a look to a subset of the generated RDF!"
      ]
    },
    {
      "cell_type": "code",
      "execution_count": null,
      "metadata": {
        "id": "HJMLqWFp5apX"
      },
      "outputs": [],
      "source": [
        "!head knowledge-graph.nt"
      ]
    },
    {
      "cell_type": "markdown",
      "metadata": {
        "id": "UYChi6168hws"
      },
      "source": [
        "With the generated RDF we could for instance load it to RDFLib (or any triplestore) and pose queries."
      ]
    },
    {
      "cell_type": "markdown",
      "metadata": {
        "id": "5PTWCzIBjqhu"
      },
      "source": [
        "## **Load Knowledge Graph to [Oxigraph](https://oxigraph.org/pyoxigraph/)**\n",
        "\n",
        "While RDFLib provides much functionality, it does not support **[RDF-star](https://w3c.github.io/rdf-star/cg-spec/2021-12-17.html)** yet. Morph-KGC can create RDF-star knowledge graphs using **[RML-star](https://w3id.org/rml/star/spec)** mappings and load them to **[Oxigraph](https://oxigraph.org/pyoxigraph/)**.\n",
        "\n",
        "The following example creates an RDF-star knowledge graph of scientific software metadata (the Morph-KGC software in this example), extracted with [SoMEF](https://github.com/KnowledgeCaptureAndDiscovery/somef). SoMEF extract some characteristics of the software which are annotated with the technique that was used to extract them and also with a confidence value. The **JSON** data is available [here](https://github.com/oeg-upm/morph-kgc/blob/main/examples/tutorial/oeg-upm_morph-kgc.json) and the RML-star mappings are available [here](https://github.com/oeg-upm/morph-kgc/blob/main/examples/tutorial/mapping.somef.ttl)."
      ]
    },
    {
      "cell_type": "markdown",
      "metadata": {
        "id": "aO4hGPKK28U5"
      },
      "source": [
        "As with RDFLib, we just need to create the _config_ and call `materialize_oxigraph`."
      ]
    },
    {
      "cell_type": "code",
      "execution_count": null,
      "metadata": {
        "id": "2dJNM_OwpXel"
      },
      "outputs": [],
      "source": [
        "import morph_kgc\n",
        "\n",
        "config = \"\"\"\n",
        "             [SoMEF]\n",
        "             mappings: https://raw.githubusercontent.com/oeg-upm/morph-kgc/main/examples/tutorial/mapping.somef.ttl\n",
        "         \"\"\"\n",
        "\n",
        "g = morph_kgc.materialize_oxigraph(config)"
      ]
    },
    {
      "cell_type": "markdown",
      "metadata": {
        "id": "D5j8W0vs3NZS"
      },
      "source": [
        "We loaded our knowledge graph to an Oxigraph store, we can now query it with **[SPARQL-star](https://w3c.github.io/rdf-star/cg-spec/editors_draft.html#sparql-star)**. The query below retrieves the license, the technique used to obtain the information and the confidence value."
      ]
    },
    {
      "cell_type": "code",
      "execution_count": null,
      "metadata": {
        "id": "2TdYTy6kp2wN"
      },
      "outputs": [],
      "source": [
        "q = \"\"\"\n",
        "         PREFIX sd: <https://w3id.org/okn/o/sd#>\n",
        "         PREFIX em: <https://www.w3id.org/okn/o/em#>\n",
        "\n",
        "         SELECT * WHERE {\n",
        "             ?sowtware a sd:Software .\n",
        "             << ?software sd:license ?license >> em:confidence ?confidence .\n",
        "             << ?software sd:license ?license >> em:technique ?technique .\n",
        "         }\n",
        "    \"\"\"\n",
        "\n",
        "q_res = g.query(q)\n",
        "\n",
        "for solution in q_res:\n",
        "    print(solution['software'], solution ['license'], solution ['technique'], solution['confidence'])"
      ]
    }
  ],
  "metadata": {
    "colab": {
      "provenance": []
    },
    "kernelspec": {
      "display_name": "Python 3",
      "name": "python3"
    },
    "language_info": {
      "name": "python"
    }
  },
  "nbformat": 4,
  "nbformat_minor": 0
}